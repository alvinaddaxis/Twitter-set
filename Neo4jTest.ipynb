{
  "nbformat": 4,
  "nbformat_minor": 0,
  "metadata": {
    "colab": {
      "name": "Neo4jTest.ipynb",
      "provenance": [],
      "collapsed_sections": [],
      "authorship_tag": "ABX9TyPxW+XKBbA8K6BAgyeofgah",
      "include_colab_link": true
    },
    "kernelspec": {
      "name": "python3",
      "display_name": "Python 3"
    },
    "language_info": {
      "name": "python"
    }
  },
  "cells": [
    {
      "cell_type": "markdown",
      "metadata": {
        "id": "view-in-github",
        "colab_type": "text"
      },
      "source": [
        "<a href=\"https://colab.research.google.com/github/alvinaddaxis/Twitter-set/blob/main/Neo4jTest.ipynb\" target=\"_parent\"><img src=\"https://colab.research.google.com/assets/colab-badge.svg\" alt=\"Open In Colab\"/></a>"
      ]
    },
    {
      "cell_type": "code",
      "source": [
        "!pip install neo4j"
      ],
      "metadata": {
        "id": "GDjsFnyLJbGL"
      },
      "execution_count": null,
      "outputs": []
    },
    {
      "cell_type": "code",
      "execution_count": 7,
      "metadata": {
        "id": "FTOUC2FcNdyu"
      },
      "outputs": [],
      "source": [
        "import pandas as pd\n",
        "import random\n",
        "import string\n",
        "from neo4j import GraphDatabase\n"
      ]
    },
    {
      "cell_type": "code",
      "source": [
        "# ceate random contents for nodes and relationships\n",
        "ids=[]\n",
        "names=[]\n",
        "for i in range(100):\n",
        "  ids.append(i) # generate 100 ids\n",
        "for j in range(100):\n",
        "  rand_str=''.join(random.choice(string.ascii_letters+string.digits) for _ in range(5))\n",
        "  names.append(rand_str) # generate 100 names\n",
        "\n",
        "start=[]\n",
        "end=[]\n",
        "prob=[]\n",
        "for i in range(3):\n",
        "  for j in range(100):\n",
        "    start.append(j) # generate 300 start ids, involoving all ids\n",
        "for i in range(300):\n",
        "  end.append(random.randint(0,99)) #generate 300 end ids\n",
        "  prob.append(round(random.uniform(0.1,1),2)) # generate 300 probabilities\n",
        "\n",
        "random.shuffle(start)"
      ],
      "metadata": {
        "colab": {
          "base_uri": "https://localhost:8080/"
        },
        "id": "1LprC1kcJik4",
        "outputId": "29cc794a-6eb6-441d-e181-d2006005af93"
      },
      "execution_count": 16,
      "outputs": [
        {
          "output_type": "execute_result",
          "data": {
            "text/plain": [
              "100"
            ]
          },
          "metadata": {},
          "execution_count": 16
        }
      ]
    },
    {
      "cell_type": "code",
      "source": [
        "print(start)"
      ],
      "metadata": {
        "colab": {
          "base_uri": "https://localhost:8080/"
        },
        "id": "bEcol7RJQUls",
        "outputId": "99c5e50c-65d7-40b4-f677-f53c35eb6061"
      },
      "execution_count": null,
      "outputs": [
        {
          "output_type": "stream",
          "name": "stdout",
          "text": [
            "[90, 49, 13, 36, 62, 43, 68, 55, 6, 96, 60, 11, 78, 33, 34, 85, 97, 54, 60, 68, 1, 81, 34, 26, 33, 4, 87, 50, 13, 91, 4, 1, 43, 58, 89, 89, 92, 78, 84, 62, 40, 2, 14, 9, 81, 25, 17, 80, 75, 38, 30, 6, 47, 5, 28, 45, 79, 36, 87, 84, 64, 84, 8, 23, 86, 74, 63, 59, 20, 46, 50, 7, 80, 69, 67, 43, 94, 39, 29, 48, 24, 79, 98, 17, 3, 41, 45, 91, 83, 16, 73, 30, 21, 10, 37, 36, 78, 99, 12, 39, 88, 66, 85, 25, 30, 76, 26, 92, 99, 42, 51, 71, 66, 20, 69, 59, 53, 96, 60, 26, 51, 50, 77, 91, 16, 46, 21, 73, 47, 40, 35, 15, 47, 93, 27, 15, 2, 89, 18, 31, 85, 74, 1, 0, 5, 97, 41, 65, 2, 22, 18, 16, 72, 46, 56, 22, 23, 72, 19, 72, 22, 29, 3, 71, 66, 95, 90, 54, 12, 13, 98, 97, 8, 59, 0, 56, 94, 95, 23, 88, 45, 52, 73, 49, 3, 48, 35, 51, 18, 57, 31, 19, 7, 64, 98, 63, 80, 10, 65, 67, 87, 24, 55, 11, 28, 62, 42, 69, 82, 6, 54, 94, 34, 49, 32, 64, 5, 14, 24, 52, 12, 67, 93, 70, 70, 37, 75, 77, 63, 40, 0, 29, 65, 81, 35, 83, 44, 55, 82, 25, 4, 61, 38, 58, 74, 8, 61, 70, 9, 52, 93, 68, 10, 15, 20, 79, 92, 77, 83, 71, 48, 75, 53, 82, 57, 11, 95, 57, 76, 27, 37, 76, 86, 96, 17, 7, 33, 19, 53, 38, 32, 31, 32, 99, 9, 28, 44, 21, 88, 56, 39, 14, 58, 86, 44, 41, 42, 27, 90, 61]\n"
          ]
        }
      ]
    },
    {
      "cell_type": "code",
      "source": [
        "# create two tables of nodes and relationships\n",
        "df_node=pd.DataFrame({\"id\":ids,\"name\":names})\n",
        "df_rel=pd.DataFrame({\"from_id\":start,\"end_id\":end,\"probability\":prob,\"relation\":\"PROPAGATED\"})\n"
      ],
      "metadata": {
        "id": "cmW2Qz4sNv1M"
      },
      "execution_count": 21,
      "outputs": []
    },
    {
      "cell_type": "code",
      "source": [
        "df_node.to_csv(\"prob_nodes.csv\",index=False,sep=',')\n",
        "df_rel.to_csv(\"prob_rel.csv\",index=False,sep=',')\n"
      ],
      "metadata": {
        "id": "9I68mfXbQZno"
      },
      "execution_count": 23,
      "outputs": []
    },
    {
      "cell_type": "code",
      "source": [
        "\n",
        "def execute_cql(cql_commands):\n",
        "  # Neo4j Database Credentials\n",
        "  uri=\"neo4j+s://ff7401b5.databases.neo4j.io:7687\"\n",
        "  userName=\"neo4j\"\n",
        "  password=\"6UXp56jDHcaZ2bCtRt89d5l1fyEJiYQ-OEmM9EpX_90\"\n",
        "  # Connect to the neo4j database server\n",
        "  graphDB_Driver = GraphDatabase.driver(uri, auth=(userName,password))\n",
        "  session = graphDB_Driver.session()\n",
        "  for i in cql_commands:\n",
        "    session.run(i)\n"
      ],
      "metadata": {
        "id": "rF9shTAkOZB4"
      },
      "execution_count": 48,
      "outputs": []
    },
    {
      "cell_type": "code",
      "source": [
        "# cql operations\n",
        "\n",
        "# to create Account nodes\n",
        "creation_node_commands=[]\n",
        "for i in ids:\n",
        "  # single creation command\n",
        "  command=\"MERGE (a:Account{id: toInteger(\" + str(ids[i]) + \"),name: '\" + names[i] + \"'})\"\n",
        "  creation_node_commands.append(command)\n",
        "\n",
        "creation_node_commands"
      ],
      "metadata": {
        "id": "YuBAKyKbOZ1G"
      },
      "execution_count": null,
      "outputs": []
    },
    {
      "cell_type": "code",
      "source": [
        "execute_cql(creation_node_commands)"
      ],
      "metadata": {
        "id": "iLhKDUvOe7qc"
      },
      "execution_count": 55,
      "outputs": []
    },
    {
      "cell_type": "code",
      "source": [
        "# to create relationships\n",
        "creation_rel_commands=[]\n",
        "for i in range(len(start)):\n",
        "  # single creation command\n",
        "  command=\"MATCH (start:Account{id: toInteger(\" + str(start[i]) + \")}) MATCH (end:Account{id: toInteger(\" + str(end[i]) + \")}) MERGE (start)-[:PROPAGATED{probability:toFloat(\"+str(prob[i])+\")}]->(end)\"\n",
        "  creation_rel_commands.append(command)\n",
        "\n",
        "creation_rel_commands"
      ],
      "metadata": {
        "id": "RwMu4kmPiiYG"
      },
      "execution_count": null,
      "outputs": []
    },
    {
      "cell_type": "code",
      "source": [
        "execute_cql(creation_rel_commands)"
      ],
      "metadata": {
        "id": "ZxJ9ki3QlFRm"
      },
      "execution_count": 58,
      "outputs": []
    },
    {
      "cell_type": "code",
      "source": [
        ""
      ],
      "metadata": {
        "id": "8YG9ImvIiig6"
      },
      "execution_count": null,
      "outputs": []
    },
    {
      "cell_type": "code",
      "source": [
        "# test cql creation command\n",
        "uri = \"neo4j+s://ff7401b5.databases.neo4j.io:7687\"\n",
        "data_base_connection = GraphDatabase.driver(uri, auth=(\"neo4j\", \"6UXp56jDHcaZ2bCtRt89d5l1fyEJiYQ-OEmM9EpX_90\"))\n",
        "session = data_base_connection.session()\n",
        "session.run(\"\"\"CREATE (a:Account {id: toInteger(1111)})\"\"\")"
      ],
      "metadata": {
        "colab": {
          "base_uri": "https://localhost:8080/"
        },
        "id": "3p3in6W_YHSf",
        "outputId": "1f4bcd00-0c77-40ab-afc5-023129fc4cb1"
      },
      "execution_count": 61,
      "outputs": [
        {
          "output_type": "execute_result",
          "data": {
            "text/plain": [
              "<neo4j.work.result.Result at 0x7f36c03f2490>"
            ]
          },
          "metadata": {},
          "execution_count": 61
        }
      ]
    },
    {
      "cell_type": "code",
      "source": [
        "# test cql updating command\n",
        "session.run(\"MATCH (a:Account {id:1111}) SET a.name='Test'\")"
      ],
      "metadata": {
        "colab": {
          "base_uri": "https://localhost:8080/"
        },
        "id": "vHuhr291fJHW",
        "outputId": "25583dac-54e9-46ae-bfdc-e1b8d57b6301"
      },
      "execution_count": 62,
      "outputs": [
        {
          "output_type": "execute_result",
          "data": {
            "text/plain": [
              "<neo4j.work.result.Result at 0x7f36c03cf550>"
            ]
          },
          "metadata": {},
          "execution_count": 62
        }
      ]
    },
    {
      "cell_type": "code",
      "source": [
        "# test cql deleting command\n",
        "session.run(\"MATCH (a:Account {id:1111}) DELETE a\")"
      ],
      "metadata": {
        "colab": {
          "base_uri": "https://localhost:8080/"
        },
        "id": "3gKnp7bAYHrP",
        "outputId": "6917d044-ac04-4bf3-dfd3-ae0524c372e8"
      },
      "execution_count": 63,
      "outputs": [
        {
          "output_type": "execute_result",
          "data": {
            "text/plain": [
              "<neo4j.work.result.Result at 0x7f36c0be0b50>"
            ]
          },
          "metadata": {},
          "execution_count": 63
        }
      ]
    },
    {
      "cell_type": "code",
      "source": [
        "nodes=session.run(\"MATCH (a:Account) RETURN a\")\n",
        "for node in nodes:\n",
        "  print(node)"
      ],
      "metadata": {
        "id": "XrMHSh8ge7vh"
      },
      "execution_count": null,
      "outputs": []
    },
    {
      "cell_type": "code",
      "source": [
        ""
      ],
      "metadata": {
        "id": "ClmdPhhQ5W6B"
      },
      "execution_count": null,
      "outputs": []
    }
  ]
}